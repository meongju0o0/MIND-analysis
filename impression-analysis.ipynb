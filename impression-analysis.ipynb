{
 "cells": [
  {
   "cell_type": "markdown",
   "id": "1d0c53f8-6421-4c8a-8f3e-89f6c9b8602c",
   "metadata": {},
   "source": [
    "# 1. import library"
   ]
  },
  {
   "cell_type": "code",
   "execution_count": 1,
   "id": "9c3cf0a2-1d97-4544-a04e-65657d7034c3",
   "metadata": {},
   "outputs": [],
   "source": [
    "import pandas as pd"
   ]
  },
  {
   "cell_type": "markdown",
   "id": "d93526ce-0fe2-4ce1-8e9c-997c60a95b50",
   "metadata": {},
   "source": [
    "# 2. define utils"
   ]
  },
  {
   "cell_type": "code",
   "execution_count": 2,
   "id": "130ad2de-b591-4e21-a693-38c7b24afe92",
   "metadata": {},
   "outputs": [],
   "source": [
    "def split_impressions(impression_str):\n",
    "    true_list = []\n",
    "    false_list = []\n",
    "    for item in impression_str.split():\n",
    "        if '-1' in item:\n",
    "            true_list.append(item.split('-')[0])\n",
    "        elif '-0' in item:\n",
    "            false_list.append(item.split('-')[0])\n",
    "    return pd.Series([true_list, false_list])"
   ]
  },
  {
   "cell_type": "code",
   "execution_count": 3,
   "id": "d605b169-3e34-4b42-b5ab-c4deeeb75bae",
   "metadata": {},
   "outputs": [],
   "source": [
    "def parse_history(history_str):\n",
    "    if pd.isna(history_str) or history_str.strip() == '':\n",
    "        return []\n",
    "    return history_str.strip().split()"
   ]
  },
  {
   "cell_type": "markdown",
   "id": "a5f05457-5afc-47b2-9048-5c3207204fb7",
   "metadata": {},
   "source": [
    "# 3. Parse Dataset"
   ]
  },
  {
   "cell_type": "code",
   "execution_count": 4,
   "id": "c578e18d-650f-41ca-b22d-39c36d71a839",
   "metadata": {},
   "outputs": [],
   "source": [
    "file_path = './dataset/MIND-small/train/behaviors.tsv'\n",
    "column_names = ['impression_id', 'user_id', 'time', 'history', 'impressions']\n",
    "train_beh_df = pd.read_csv(file_path, sep='\\t', names=column_names, header=None)"
   ]
  },
  {
   "cell_type": "code",
   "execution_count": 5,
   "id": "02975e2b-48a0-47ee-9d34-91676f1bf1a2",
   "metadata": {},
   "outputs": [
    {
     "data": {
      "text/html": [
       "<div>\n",
       "<style scoped>\n",
       "    .dataframe tbody tr th:only-of-type {\n",
       "        vertical-align: middle;\n",
       "    }\n",
       "\n",
       "    .dataframe tbody tr th {\n",
       "        vertical-align: top;\n",
       "    }\n",
       "\n",
       "    .dataframe thead th {\n",
       "        text-align: right;\n",
       "    }\n",
       "</style>\n",
       "<table border=\"1\" class=\"dataframe\">\n",
       "  <thead>\n",
       "    <tr style=\"text-align: right;\">\n",
       "      <th></th>\n",
       "      <th>impression_id</th>\n",
       "      <th>user_id</th>\n",
       "      <th>time</th>\n",
       "      <th>history</th>\n",
       "      <th>impressions</th>\n",
       "    </tr>\n",
       "  </thead>\n",
       "  <tbody>\n",
       "    <tr>\n",
       "      <th>0</th>\n",
       "      <td>1</td>\n",
       "      <td>U13740</td>\n",
       "      <td>11/11/2019 9:05:58 AM</td>\n",
       "      <td>N55189 N42782 N34694 N45794 N18445 N63302 N104...</td>\n",
       "      <td>N55689-1 N35729-0</td>\n",
       "    </tr>\n",
       "    <tr>\n",
       "      <th>1</th>\n",
       "      <td>2</td>\n",
       "      <td>U91836</td>\n",
       "      <td>11/12/2019 6:11:30 PM</td>\n",
       "      <td>N31739 N6072 N63045 N23979 N35656 N43353 N8129...</td>\n",
       "      <td>N20678-0 N39317-0 N58114-0 N20495-0 N42977-0 N...</td>\n",
       "    </tr>\n",
       "    <tr>\n",
       "      <th>2</th>\n",
       "      <td>3</td>\n",
       "      <td>U73700</td>\n",
       "      <td>11/14/2019 7:01:48 AM</td>\n",
       "      <td>N10732 N25792 N7563 N21087 N41087 N5445 N60384...</td>\n",
       "      <td>N50014-0 N23877-0 N35389-0 N49712-0 N16844-0 N...</td>\n",
       "    </tr>\n",
       "    <tr>\n",
       "      <th>3</th>\n",
       "      <td>4</td>\n",
       "      <td>U34670</td>\n",
       "      <td>11/11/2019 5:28:05 AM</td>\n",
       "      <td>N45729 N2203 N871 N53880 N41375 N43142 N33013 ...</td>\n",
       "      <td>N35729-0 N33632-0 N49685-1 N27581-0</td>\n",
       "    </tr>\n",
       "    <tr>\n",
       "      <th>4</th>\n",
       "      <td>5</td>\n",
       "      <td>U8125</td>\n",
       "      <td>11/12/2019 4:11:21 PM</td>\n",
       "      <td>N10078 N56514 N14904 N33740</td>\n",
       "      <td>N39985-0 N36050-0 N16096-0 N8400-1 N22407-0 N6...</td>\n",
       "    </tr>\n",
       "  </tbody>\n",
       "</table>\n",
       "</div>"
      ],
      "text/plain": [
       "   impression_id user_id                   time  \\\n",
       "0              1  U13740  11/11/2019 9:05:58 AM   \n",
       "1              2  U91836  11/12/2019 6:11:30 PM   \n",
       "2              3  U73700  11/14/2019 7:01:48 AM   \n",
       "3              4  U34670  11/11/2019 5:28:05 AM   \n",
       "4              5   U8125  11/12/2019 4:11:21 PM   \n",
       "\n",
       "                                             history  \\\n",
       "0  N55189 N42782 N34694 N45794 N18445 N63302 N104...   \n",
       "1  N31739 N6072 N63045 N23979 N35656 N43353 N8129...   \n",
       "2  N10732 N25792 N7563 N21087 N41087 N5445 N60384...   \n",
       "3  N45729 N2203 N871 N53880 N41375 N43142 N33013 ...   \n",
       "4                        N10078 N56514 N14904 N33740   \n",
       "\n",
       "                                         impressions  \n",
       "0                                  N55689-1 N35729-0  \n",
       "1  N20678-0 N39317-0 N58114-0 N20495-0 N42977-0 N...  \n",
       "2  N50014-0 N23877-0 N35389-0 N49712-0 N16844-0 N...  \n",
       "3                N35729-0 N33632-0 N49685-1 N27581-0  \n",
       "4  N39985-0 N36050-0 N16096-0 N8400-1 N22407-0 N6...  "
      ]
     },
     "execution_count": 5,
     "metadata": {},
     "output_type": "execute_result"
    }
   ],
   "source": [
    "train_beh_df.head()"
   ]
  },
  {
   "cell_type": "code",
   "execution_count": 6,
   "id": "7a4802b9-43bd-473c-a571-7cda128ca3e3",
   "metadata": {},
   "outputs": [],
   "source": [
    "file_path = './dataset/MIND-small/dev/behaviors.tsv'\n",
    "column_names = ['impression_id', 'user_id', 'time', 'history', 'impressions']\n",
    "dev_beh_df = pd.read_csv(file_path, sep='\\t', names=column_names, header=None)"
   ]
  },
  {
   "cell_type": "code",
   "execution_count": 7,
   "id": "e53eb250-0a35-4749-8553-557c8f08de4c",
   "metadata": {},
   "outputs": [
    {
     "data": {
      "text/html": [
       "<div>\n",
       "<style scoped>\n",
       "    .dataframe tbody tr th:only-of-type {\n",
       "        vertical-align: middle;\n",
       "    }\n",
       "\n",
       "    .dataframe tbody tr th {\n",
       "        vertical-align: top;\n",
       "    }\n",
       "\n",
       "    .dataframe thead th {\n",
       "        text-align: right;\n",
       "    }\n",
       "</style>\n",
       "<table border=\"1\" class=\"dataframe\">\n",
       "  <thead>\n",
       "    <tr style=\"text-align: right;\">\n",
       "      <th></th>\n",
       "      <th>impression_id</th>\n",
       "      <th>user_id</th>\n",
       "      <th>time</th>\n",
       "      <th>history</th>\n",
       "      <th>impressions</th>\n",
       "    </tr>\n",
       "  </thead>\n",
       "  <tbody>\n",
       "    <tr>\n",
       "      <th>0</th>\n",
       "      <td>1</td>\n",
       "      <td>U80234</td>\n",
       "      <td>11/15/2019 12:37:50 PM</td>\n",
       "      <td>N55189 N46039 N51741 N53234 N11276 N264 N40716...</td>\n",
       "      <td>N28682-0 N48740-0 N31958-1 N34130-0 N6916-0 N5...</td>\n",
       "    </tr>\n",
       "    <tr>\n",
       "      <th>1</th>\n",
       "      <td>2</td>\n",
       "      <td>U60458</td>\n",
       "      <td>11/15/2019 7:11:50 AM</td>\n",
       "      <td>N58715 N32109 N51180 N33438 N54827 N28488 N611...</td>\n",
       "      <td>N20036-0 N23513-1 N32536-0 N46976-0 N35216-0 N...</td>\n",
       "    </tr>\n",
       "    <tr>\n",
       "      <th>2</th>\n",
       "      <td>3</td>\n",
       "      <td>U44190</td>\n",
       "      <td>11/15/2019 9:55:12 AM</td>\n",
       "      <td>N56253 N1150 N55189 N16233 N61704 N51706 N5303...</td>\n",
       "      <td>N36779-0 N62365-0 N58098-0 N5472-0 N13408-0 N5...</td>\n",
       "    </tr>\n",
       "    <tr>\n",
       "      <th>3</th>\n",
       "      <td>4</td>\n",
       "      <td>U87380</td>\n",
       "      <td>11/15/2019 3:12:46 PM</td>\n",
       "      <td>N63554 N49153 N28678 N23232 N43369 N58518 N444...</td>\n",
       "      <td>N6950-0 N60215-0 N6074-0 N11930-0 N6916-0 N248...</td>\n",
       "    </tr>\n",
       "    <tr>\n",
       "      <th>4</th>\n",
       "      <td>5</td>\n",
       "      <td>U9444</td>\n",
       "      <td>11/15/2019 8:25:46 AM</td>\n",
       "      <td>N51692 N18285 N26015 N22679 N55556</td>\n",
       "      <td>N5940-1 N23513-0 N49285-0 N23355-0 N19990-0 N3...</td>\n",
       "    </tr>\n",
       "  </tbody>\n",
       "</table>\n",
       "</div>"
      ],
      "text/plain": [
       "   impression_id user_id                    time  \\\n",
       "0              1  U80234  11/15/2019 12:37:50 PM   \n",
       "1              2  U60458   11/15/2019 7:11:50 AM   \n",
       "2              3  U44190   11/15/2019 9:55:12 AM   \n",
       "3              4  U87380   11/15/2019 3:12:46 PM   \n",
       "4              5   U9444   11/15/2019 8:25:46 AM   \n",
       "\n",
       "                                             history  \\\n",
       "0  N55189 N46039 N51741 N53234 N11276 N264 N40716...   \n",
       "1  N58715 N32109 N51180 N33438 N54827 N28488 N611...   \n",
       "2  N56253 N1150 N55189 N16233 N61704 N51706 N5303...   \n",
       "3  N63554 N49153 N28678 N23232 N43369 N58518 N444...   \n",
       "4                 N51692 N18285 N26015 N22679 N55556   \n",
       "\n",
       "                                         impressions  \n",
       "0  N28682-0 N48740-0 N31958-1 N34130-0 N6916-0 N5...  \n",
       "1  N20036-0 N23513-1 N32536-0 N46976-0 N35216-0 N...  \n",
       "2  N36779-0 N62365-0 N58098-0 N5472-0 N13408-0 N5...  \n",
       "3  N6950-0 N60215-0 N6074-0 N11930-0 N6916-0 N248...  \n",
       "4  N5940-1 N23513-0 N49285-0 N23355-0 N19990-0 N3...  "
      ]
     },
     "execution_count": 7,
     "metadata": {},
     "output_type": "execute_result"
    }
   ],
   "source": [
    "dev_beh_df.head()"
   ]
  },
  {
   "cell_type": "markdown",
   "id": "84a98fd6-3848-4284-b1ac-432b19af80ca",
   "metadata": {},
   "source": [
    "# 4. Combine train & dev set, sort by impression time"
   ]
  },
  {
   "cell_type": "code",
   "execution_count": 8,
   "id": "aa77a598-e5da-4aab-b8b6-18541e38d83f",
   "metadata": {},
   "outputs": [],
   "source": [
    "all_beh_df = pd.concat([train_beh_df, dev_beh_df], ignore_index=True)\n",
    "all_beh_df['time'] = pd.to_datetime(all_beh_df['time'], errors='coerce')\n",
    "all_beh_df = all_beh_df.sort_values(by='time').reset_index(drop=True)\n",
    "all_beh_df['history'] = all_beh_df['history'].apply(parse_history)\n",
    "all_beh_df[['true_imp', 'false_imp']] = all_beh_df['impressions'].apply(split_impressions)\n",
    "all_beh_df = all_beh_df.drop(columns=['impressions'])"
   ]
  },
  {
   "cell_type": "code",
   "execution_count": 9,
   "id": "05481ea4-6557-4c35-beab-baa74e980d77",
   "metadata": {},
   "outputs": [
    {
     "data": {
      "text/html": [
       "<div>\n",
       "<style scoped>\n",
       "    .dataframe tbody tr th:only-of-type {\n",
       "        vertical-align: middle;\n",
       "    }\n",
       "\n",
       "    .dataframe tbody tr th {\n",
       "        vertical-align: top;\n",
       "    }\n",
       "\n",
       "    .dataframe thead th {\n",
       "        text-align: right;\n",
       "    }\n",
       "</style>\n",
       "<table border=\"1\" class=\"dataframe\">\n",
       "  <thead>\n",
       "    <tr style=\"text-align: right;\">\n",
       "      <th></th>\n",
       "      <th>impression_id</th>\n",
       "      <th>user_id</th>\n",
       "      <th>time</th>\n",
       "      <th>history</th>\n",
       "      <th>true_imp</th>\n",
       "      <th>false_imp</th>\n",
       "    </tr>\n",
       "  </thead>\n",
       "  <tbody>\n",
       "    <tr>\n",
       "      <th>0</th>\n",
       "      <td>20112</td>\n",
       "      <td>U65916</td>\n",
       "      <td>2019-11-09 00:00:19</td>\n",
       "      <td>[N51706, N40767, N12096, N9798, N38802, N54827...</td>\n",
       "      <td>[N46057, N55582, N41858]</td>\n",
       "      <td>[N54300, N57005, N52154, N57099, N31002, N3710...</td>\n",
       "    </tr>\n",
       "    <tr>\n",
       "      <th>1</th>\n",
       "      <td>13807</td>\n",
       "      <td>U49985</td>\n",
       "      <td>2019-11-09 00:01:13</td>\n",
       "      <td>[N5056, N29975, N53234, N39603, N50032, N8422,...</td>\n",
       "      <td>[N57768, N50135, N16560, N25785, N3491]</td>\n",
       "      <td>[N20602, N50059, N15134, N61880, N64536, N3710...</td>\n",
       "    </tr>\n",
       "    <tr>\n",
       "      <th>2</th>\n",
       "      <td>27660</td>\n",
       "      <td>U25550</td>\n",
       "      <td>2019-11-09 00:02:44</td>\n",
       "      <td>[N17260, N38298, N33976, N47719, N14888, N1887...</td>\n",
       "      <td>[N52433]</td>\n",
       "      <td>[N50135, N15134, N20602, N64536]</td>\n",
       "    </tr>\n",
       "    <tr>\n",
       "      <th>3</th>\n",
       "      <td>152217</td>\n",
       "      <td>U19710</td>\n",
       "      <td>2019-11-09 00:02:50</td>\n",
       "      <td>[N3530, N48284, N43019, N62546, N138, N13138, ...</td>\n",
       "      <td>[N43083]</td>\n",
       "      <td>[N57099, N30295, N21086, N5379, N57005, N31002...</td>\n",
       "    </tr>\n",
       "    <tr>\n",
       "      <th>4</th>\n",
       "      <td>42166</td>\n",
       "      <td>U38106</td>\n",
       "      <td>2019-11-09 00:03:09</td>\n",
       "      <td>[N16874, N264, N48697, N51366]</td>\n",
       "      <td>[N48925]</td>\n",
       "      <td>[N3491, N20602, N25785, N23575, N38783, N18708...</td>\n",
       "    </tr>\n",
       "  </tbody>\n",
       "</table>\n",
       "</div>"
      ],
      "text/plain": [
       "   impression_id user_id                time  \\\n",
       "0          20112  U65916 2019-11-09 00:00:19   \n",
       "1          13807  U49985 2019-11-09 00:01:13   \n",
       "2          27660  U25550 2019-11-09 00:02:44   \n",
       "3         152217  U19710 2019-11-09 00:02:50   \n",
       "4          42166  U38106 2019-11-09 00:03:09   \n",
       "\n",
       "                                             history  \\\n",
       "0  [N51706, N40767, N12096, N9798, N38802, N54827...   \n",
       "1  [N5056, N29975, N53234, N39603, N50032, N8422,...   \n",
       "2  [N17260, N38298, N33976, N47719, N14888, N1887...   \n",
       "3  [N3530, N48284, N43019, N62546, N138, N13138, ...   \n",
       "4                     [N16874, N264, N48697, N51366]   \n",
       "\n",
       "                                  true_imp  \\\n",
       "0                 [N46057, N55582, N41858]   \n",
       "1  [N57768, N50135, N16560, N25785, N3491]   \n",
       "2                                 [N52433]   \n",
       "3                                 [N43083]   \n",
       "4                                 [N48925]   \n",
       "\n",
       "                                           false_imp  \n",
       "0  [N54300, N57005, N52154, N57099, N31002, N3710...  \n",
       "1  [N20602, N50059, N15134, N61880, N64536, N3710...  \n",
       "2                   [N50135, N15134, N20602, N64536]  \n",
       "3  [N57099, N30295, N21086, N5379, N57005, N31002...  \n",
       "4  [N3491, N20602, N25785, N23575, N38783, N18708...  "
      ]
     },
     "execution_count": 9,
     "metadata": {},
     "output_type": "execute_result"
    }
   ],
   "source": [
    "all_beh_df.head()"
   ]
  },
  {
   "cell_type": "markdown",
   "id": "f7ff5267-2754-409a-a745-18e0edd8976f",
   "metadata": {},
   "source": [
    "# 5. Print U36050's impressions (history, clicked impressions)"
   ]
  },
  {
   "cell_type": "code",
   "execution_count": 10,
   "id": "3642837c-669e-43b0-8293-0f98340cba57",
   "metadata": {},
   "outputs": [],
   "source": [
    "u36050_df = all_beh_df[all_beh_df['user_id'] == 'U36050']"
   ]
  },
  {
   "cell_type": "code",
   "execution_count": 13,
   "id": "4faa02e2-1201-4e56-a8d6-6fc3aaf8ba3e",
   "metadata": {},
   "outputs": [
    {
     "name": "stdout",
     "output_type": "stream",
     "text": [
      "7563      [N18708, N39267, N33981]\n",
      "144150     [N11269, N6390, N38442]\n",
      "156968             [N5981, N16120]\n",
      "Name: true_imp, dtype: object\n",
      "['N39556', 'N459', 'N57300', 'N4643', 'N16545', 'N4501', 'N10059', 'N719', 'N51483', 'N56446', 'N32868', 'N19620', 'N61084', 'N10865', 'N16625', 'N19638', 'N31193', 'N25577', 'N12096', 'N48216', 'N20110', 'N18275', 'N28115', 'N25525', 'N29453', 'N16715', 'N24298', 'N18355', 'N4985', 'N6506', 'N14761', 'N1864', 'N8148', 'N46811']\n",
      "length of imp7563's history:  34\n",
      "['N39556', 'N459', 'N57300', 'N4643', 'N16545', 'N4501', 'N10059', 'N719', 'N51483', 'N56446', 'N32868', 'N19620', 'N61084', 'N10865', 'N16625', 'N19638', 'N31193', 'N25577', 'N12096', 'N48216', 'N20110', 'N18275', 'N28115', 'N25525', 'N29453', 'N16715', 'N24298', 'N18355', 'N4985', 'N6506', 'N14761', 'N1864', 'N8148', 'N46811']\n",
      "length of imp7563's history:  34\n",
      "['N39556', 'N459', 'N57300', 'N4643', 'N16545', 'N4501', 'N10059', 'N719', 'N51483', 'N56446', 'N32868', 'N19620', 'N61084', 'N10865', 'N16625', 'N19638', 'N31193', 'N25577', 'N12096', 'N48216', 'N20110', 'N18275', 'N28115', 'N25525', 'N29453', 'N16715', 'N24298', 'N18355', 'N4985', 'N6506', 'N14761', 'N1864', 'N8148', 'N46811']\n",
      "length of imp7563's history:  34\n"
     ]
    }
   ],
   "source": [
    "print(u36050_df['true_imp'])\n",
    "print(u36050_df['history'][7563])\n",
    "print(\"length of imp7563's history: \", len(u36050_df['history'][7563]))\n",
    "print(u36050_df['history'][144150])\n",
    "print(\"length of imp7563's history: \", len(u36050_df['history'][144150]))\n",
    "print(u36050_df['history'][156968])\n",
    "print(\"length of imp7563's history: \", len(u36050_df['history'][156968]))"
   ]
  },
  {
   "cell_type": "markdown",
   "id": "6783c188-e757-4686-b44c-1a19ce3e4388",
   "metadata": {},
   "source": [
    "# 6. Print U65916's impressions (history, clicked impressions)"
   ]
  },
  {
   "cell_type": "code",
   "execution_count": 19,
   "id": "92e2d213-687a-45e2-a9e7-91b6183d458e",
   "metadata": {},
   "outputs": [],
   "source": [
    "u65916_df = all_beh_df[all_beh_df['user_id'] == 'U65916']"
   ]
  },
  {
   "cell_type": "code",
   "execution_count": 21,
   "id": "bf09ee49-e84b-4615-b516-342865520ac8",
   "metadata": {},
   "outputs": [
    {
     "name": "stdout",
     "output_type": "stream",
     "text": [
      "0         [N46057, N55582, N41858]\n",
      "28403                     [N40495]\n",
      "94576              [N7821, N17289]\n",
      "126677                    [N41612]\n",
      "Name: true_imp, dtype: object\n",
      "['N51706', 'N40767', 'N12096', 'N9798', 'N38802', 'N54827', 'N57801', 'N5184', 'N23653', 'N44007', 'N36443', 'N43142', 'N11143', 'N53652', 'N2678']\n",
      "length of imp7563's history:  15\n",
      "['N51706', 'N40767', 'N12096', 'N9798', 'N38802', 'N54827', 'N57801', 'N5184', 'N23653', 'N44007', 'N36443', 'N43142', 'N11143', 'N53652', 'N2678']\n",
      "length of imp7563's history:  15\n",
      "['N51706', 'N40767', 'N12096', 'N9798', 'N38802', 'N54827', 'N57801', 'N5184', 'N23653', 'N44007', 'N36443', 'N43142', 'N11143', 'N53652', 'N2678']\n",
      "length of imp7563's history:  15\n",
      "['N51706', 'N40767', 'N12096', 'N9798', 'N38802', 'N54827', 'N57801', 'N5184', 'N23653', 'N44007', 'N36443', 'N43142', 'N11143', 'N53652', 'N2678']\n",
      "length of imp7563's history:  15\n"
     ]
    }
   ],
   "source": [
    "print(u65916_df['true_imp'])\n",
    "print(u65916_df['history'][0])\n",
    "print(\"length of imp7563's history: \", len(u65916_df['history'][0]))\n",
    "print(u65916_df['history'][28403])\n",
    "print(\"length of imp7563's history: \", len(u65916_df['history'][28403]))\n",
    "print(u65916_df['history'][94576])\n",
    "print(\"length of imp7563's history: \", len(u65916_df['history'][94576]))\n",
    "print(u65916_df['history'][126677])\n",
    "print(\"length of imp7563's history: \", len(u65916_df['history'][126677]))"
   ]
  },
  {
   "cell_type": "code",
   "execution_count": null,
   "id": "dd05b48a-c464-484d-9c54-e8d61c884e23",
   "metadata": {},
   "outputs": [],
   "source": []
  }
 ],
 "metadata": {
  "kernelspec": {
   "display_name": "Python 3 (ipykernel)",
   "language": "python",
   "name": "python3"
  },
  "language_info": {
   "codemirror_mode": {
    "name": "ipython",
    "version": 3
   },
   "file_extension": ".py",
   "mimetype": "text/x-python",
   "name": "python",
   "nbconvert_exporter": "python",
   "pygments_lexer": "ipython3",
   "version": "3.11.13"
  }
 },
 "nbformat": 4,
 "nbformat_minor": 5
}
