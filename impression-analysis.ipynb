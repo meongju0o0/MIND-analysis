{
 "cells": [
  {
   "cell_type": "markdown",
   "id": "1d0c53f8-6421-4c8a-8f3e-89f6c9b8602c",
   "metadata": {},
   "source": [
    "# 1. import library"
   ]
  },
  {
   "cell_type": "code",
   "execution_count": 1,
   "id": "9c3cf0a2-1d97-4544-a04e-65657d7034c3",
   "metadata": {},
   "outputs": [],
   "source": [
    "import pandas as pd"
   ]
  },
  {
   "cell_type": "markdown",
   "id": "d93526ce-0fe2-4ce1-8e9c-997c60a95b50",
   "metadata": {},
   "source": [
    "# 2. define utils"
   ]
  },
  {
   "cell_type": "code",
   "execution_count": 2,
   "id": "130ad2de-b591-4e21-a693-38c7b24afe92",
   "metadata": {},
   "outputs": [],
   "source": [
    "def split_impressions(impression_str):\n",
    "    true_list = []\n",
    "    false_list = []\n",
    "    for item in impression_str.split():\n",
    "        if '-1' in item:\n",
    "            true_list.append(item.split('-')[0])\n",
    "        elif '-0' in item:\n",
    "            false_list.append(item.split('-')[0])\n",
    "    return pd.Series([true_list, false_list])"
   ]
  },
  {
   "cell_type": "code",
   "execution_count": 3,
   "id": "d605b169-3e34-4b42-b5ab-c4deeeb75bae",
   "metadata": {},
   "outputs": [],
   "source": [
    "def parse_history(history_str):\n",
    "    if pd.isna(history_str) or history_str.strip() == '':\n",
    "        return []\n",
    "    return history_str.strip().split()"
   ]
  },
  {
   "cell_type": "markdown",
   "id": "a5f05457-5afc-47b2-9048-5c3207204fb7",
   "metadata": {},
   "source": [
    "# 3. Parse Dataset"
   ]
  },
  {
   "cell_type": "code",
   "execution_count": 4,
   "id": "c578e18d-650f-41ca-b22d-39c36d71a839",
   "metadata": {},
   "outputs": [],
   "source": [
    "file_path = './dataset/MIND-small/train/behaviors.tsv'\n",
    "column_names = ['impression_id', 'user_id', 'time', 'history', 'impressions']\n",
    "train_beh_df = pd.read_csv(file_path, sep='\\t', names=column_names, header=None)\n",
    "train_beh_df['time'] = pd.to_datetime(train_beh_df['time'], errors='coerce')\n",
    "train_beh_df = train_beh_df.sort_values(by='time').reset_index(drop=True)\n",
    "train_beh_df['history'] = train_beh_df['history'].apply(parse_history)\n",
    "train_beh_df[['true_imp', 'false_imp']] = train_beh_df['impressions'].apply(split_impressions)\n",
    "train_beh_df = train_beh_df.drop(columns=['impressions'])"
   ]
  },
  {
   "cell_type": "code",
   "execution_count": 5,
   "id": "02975e2b-48a0-47ee-9d34-91676f1bf1a2",
   "metadata": {},
   "outputs": [
    {
     "data": {
      "text/html": [
       "<div>\n",
       "<style scoped>\n",
       "    .dataframe tbody tr th:only-of-type {\n",
       "        vertical-align: middle;\n",
       "    }\n",
       "\n",
       "    .dataframe tbody tr th {\n",
       "        vertical-align: top;\n",
       "    }\n",
       "\n",
       "    .dataframe thead th {\n",
       "        text-align: right;\n",
       "    }\n",
       "</style>\n",
       "<table border=\"1\" class=\"dataframe\">\n",
       "  <thead>\n",
       "    <tr style=\"text-align: right;\">\n",
       "      <th></th>\n",
       "      <th>impression_id</th>\n",
       "      <th>user_id</th>\n",
       "      <th>time</th>\n",
       "      <th>history</th>\n",
       "      <th>true_imp</th>\n",
       "      <th>false_imp</th>\n",
       "    </tr>\n",
       "  </thead>\n",
       "  <tbody>\n",
       "    <tr>\n",
       "      <th>0</th>\n",
       "      <td>20112</td>\n",
       "      <td>U65916</td>\n",
       "      <td>2019-11-09 00:00:19</td>\n",
       "      <td>[N51706, N40767, N12096, N9798, N38802, N54827...</td>\n",
       "      <td>[N46057, N55582, N41858]</td>\n",
       "      <td>[N54300, N57005, N52154, N57099, N31002, N3710...</td>\n",
       "    </tr>\n",
       "    <tr>\n",
       "      <th>1</th>\n",
       "      <td>13807</td>\n",
       "      <td>U49985</td>\n",
       "      <td>2019-11-09 00:01:13</td>\n",
       "      <td>[N5056, N29975, N53234, N39603, N50032, N8422,...</td>\n",
       "      <td>[N57768, N50135, N16560, N25785, N3491]</td>\n",
       "      <td>[N20602, N50059, N15134, N61880, N64536, N3710...</td>\n",
       "    </tr>\n",
       "    <tr>\n",
       "      <th>2</th>\n",
       "      <td>27660</td>\n",
       "      <td>U25550</td>\n",
       "      <td>2019-11-09 00:02:44</td>\n",
       "      <td>[N17260, N38298, N33976, N47719, N14888, N1887...</td>\n",
       "      <td>[N52433]</td>\n",
       "      <td>[N50135, N15134, N20602, N64536]</td>\n",
       "    </tr>\n",
       "    <tr>\n",
       "      <th>3</th>\n",
       "      <td>152217</td>\n",
       "      <td>U19710</td>\n",
       "      <td>2019-11-09 00:02:50</td>\n",
       "      <td>[N3530, N48284, N43019, N62546, N138, N13138, ...</td>\n",
       "      <td>[N43083]</td>\n",
       "      <td>[N57099, N30295, N21086, N5379, N57005, N31002...</td>\n",
       "    </tr>\n",
       "    <tr>\n",
       "      <th>4</th>\n",
       "      <td>42166</td>\n",
       "      <td>U38106</td>\n",
       "      <td>2019-11-09 00:03:09</td>\n",
       "      <td>[N16874, N264, N48697, N51366]</td>\n",
       "      <td>[N48925]</td>\n",
       "      <td>[N3491, N20602, N25785, N23575, N38783, N18708...</td>\n",
       "    </tr>\n",
       "  </tbody>\n",
       "</table>\n",
       "</div>"
      ],
      "text/plain": [
       "   impression_id user_id                time  \\\n",
       "0          20112  U65916 2019-11-09 00:00:19   \n",
       "1          13807  U49985 2019-11-09 00:01:13   \n",
       "2          27660  U25550 2019-11-09 00:02:44   \n",
       "3         152217  U19710 2019-11-09 00:02:50   \n",
       "4          42166  U38106 2019-11-09 00:03:09   \n",
       "\n",
       "                                             history  \\\n",
       "0  [N51706, N40767, N12096, N9798, N38802, N54827...   \n",
       "1  [N5056, N29975, N53234, N39603, N50032, N8422,...   \n",
       "2  [N17260, N38298, N33976, N47719, N14888, N1887...   \n",
       "3  [N3530, N48284, N43019, N62546, N138, N13138, ...   \n",
       "4                     [N16874, N264, N48697, N51366]   \n",
       "\n",
       "                                  true_imp  \\\n",
       "0                 [N46057, N55582, N41858]   \n",
       "1  [N57768, N50135, N16560, N25785, N3491]   \n",
       "2                                 [N52433]   \n",
       "3                                 [N43083]   \n",
       "4                                 [N48925]   \n",
       "\n",
       "                                           false_imp  \n",
       "0  [N54300, N57005, N52154, N57099, N31002, N3710...  \n",
       "1  [N20602, N50059, N15134, N61880, N64536, N3710...  \n",
       "2                   [N50135, N15134, N20602, N64536]  \n",
       "3  [N57099, N30295, N21086, N5379, N57005, N31002...  \n",
       "4  [N3491, N20602, N25785, N23575, N38783, N18708...  "
      ]
     },
     "execution_count": 5,
     "metadata": {},
     "output_type": "execute_result"
    }
   ],
   "source": [
    "train_beh_df.head()"
   ]
  },
  {
   "cell_type": "code",
   "execution_count": 6,
   "id": "50a02144-a32e-435a-8bc2-c9c8235ca5c8",
   "metadata": {},
   "outputs": [
    {
     "data": {
      "text/html": [
       "<div>\n",
       "<style scoped>\n",
       "    .dataframe tbody tr th:only-of-type {\n",
       "        vertical-align: middle;\n",
       "    }\n",
       "\n",
       "    .dataframe tbody tr th {\n",
       "        vertical-align: top;\n",
       "    }\n",
       "\n",
       "    .dataframe thead th {\n",
       "        text-align: right;\n",
       "    }\n",
       "</style>\n",
       "<table border=\"1\" class=\"dataframe\">\n",
       "  <thead>\n",
       "    <tr style=\"text-align: right;\">\n",
       "      <th></th>\n",
       "      <th>impression_id</th>\n",
       "      <th>user_id</th>\n",
       "      <th>time</th>\n",
       "      <th>history</th>\n",
       "      <th>true_imp</th>\n",
       "      <th>false_imp</th>\n",
       "    </tr>\n",
       "  </thead>\n",
       "  <tbody>\n",
       "    <tr>\n",
       "      <th>156960</th>\n",
       "      <td>66234</td>\n",
       "      <td>U717</td>\n",
       "      <td>2019-11-14 23:58:46</td>\n",
       "      <td>[N54822, N46392, N27863, N13138, N40448, N14006]</td>\n",
       "      <td>[N61233]</td>\n",
       "      <td>[N7494, N46917, N62197, N2960, N22978, N57081,...</td>\n",
       "    </tr>\n",
       "    <tr>\n",
       "      <th>156961</th>\n",
       "      <td>36004</td>\n",
       "      <td>U44395</td>\n",
       "      <td>2019-11-14 23:58:47</td>\n",
       "      <td>[N38488, N11231, N14761, N21164, N42128, N7328...</td>\n",
       "      <td>[N30290]</td>\n",
       "      <td>[N48487, N41934, N64037, N63913, N55322, N1447...</td>\n",
       "    </tr>\n",
       "    <tr>\n",
       "      <th>156962</th>\n",
       "      <td>105363</td>\n",
       "      <td>U41595</td>\n",
       "      <td>2019-11-14 23:58:51</td>\n",
       "      <td>[]</td>\n",
       "      <td>[N23513]</td>\n",
       "      <td>[N14478, N7342, N48487, N29490, N27737, N47781...</td>\n",
       "    </tr>\n",
       "    <tr>\n",
       "      <th>156963</th>\n",
       "      <td>108433</td>\n",
       "      <td>U75895</td>\n",
       "      <td>2019-11-14 23:59:06</td>\n",
       "      <td>[N1300, N9803, N14114, N31996]</td>\n",
       "      <td>[N61233]</td>\n",
       "      <td>[N29490, N22975, N27737, N6837, N47652, N14478...</td>\n",
       "    </tr>\n",
       "    <tr>\n",
       "      <th>156964</th>\n",
       "      <td>90252</td>\n",
       "      <td>U82996</td>\n",
       "      <td>2019-11-14 23:59:13</td>\n",
       "      <td>[N39556, N22279, N56461, N33393, N6233, N33617...</td>\n",
       "      <td>[N51253, N42767]</td>\n",
       "      <td>[N3678, N41934, N36786, N23535, N29490, N50055...</td>\n",
       "    </tr>\n",
       "  </tbody>\n",
       "</table>\n",
       "</div>"
      ],
      "text/plain": [
       "        impression_id user_id                time  \\\n",
       "156960          66234    U717 2019-11-14 23:58:46   \n",
       "156961          36004  U44395 2019-11-14 23:58:47   \n",
       "156962         105363  U41595 2019-11-14 23:58:51   \n",
       "156963         108433  U75895 2019-11-14 23:59:06   \n",
       "156964          90252  U82996 2019-11-14 23:59:13   \n",
       "\n",
       "                                                  history          true_imp  \\\n",
       "156960   [N54822, N46392, N27863, N13138, N40448, N14006]          [N61233]   \n",
       "156961  [N38488, N11231, N14761, N21164, N42128, N7328...          [N30290]   \n",
       "156962                                                 []          [N23513]   \n",
       "156963                     [N1300, N9803, N14114, N31996]          [N61233]   \n",
       "156964  [N39556, N22279, N56461, N33393, N6233, N33617...  [N51253, N42767]   \n",
       "\n",
       "                                                false_imp  \n",
       "156960  [N7494, N46917, N62197, N2960, N22978, N57081,...  \n",
       "156961  [N48487, N41934, N64037, N63913, N55322, N1447...  \n",
       "156962  [N14478, N7342, N48487, N29490, N27737, N47781...  \n",
       "156963  [N29490, N22975, N27737, N6837, N47652, N14478...  \n",
       "156964  [N3678, N41934, N36786, N23535, N29490, N50055...  "
      ]
     },
     "execution_count": 6,
     "metadata": {},
     "output_type": "execute_result"
    }
   ],
   "source": [
    "train_beh_df.tail()"
   ]
  },
  {
   "cell_type": "code",
   "execution_count": 7,
   "id": "7a4802b9-43bd-473c-a571-7cda128ca3e3",
   "metadata": {},
   "outputs": [],
   "source": [
    "file_path = './dataset/MIND-small/dev/behaviors.tsv'\n",
    "column_names = ['impression_id', 'user_id', 'time', 'history', 'impressions']\n",
    "dev_beh_df = pd.read_csv(file_path, sep='\\t', names=column_names, header=None)\n",
    "dev_beh_df['time'] = pd.to_datetime(dev_beh_df['time'], errors='coerce')\n",
    "dev_beh_df = dev_beh_df.sort_values(by='time').reset_index(drop=True)\n",
    "dev_beh_df['history'] = dev_beh_df['history'].apply(parse_history)\n",
    "dev_beh_df[['true_imp', 'false_imp']] = dev_beh_df['impressions'].apply(split_impressions)\n",
    "dev_beh_df = dev_beh_df.drop(columns=['impressions'])"
   ]
  },
  {
   "cell_type": "code",
   "execution_count": 8,
   "id": "e53eb250-0a35-4749-8553-557c8f08de4c",
   "metadata": {},
   "outputs": [
    {
     "data": {
      "text/html": [
       "<div>\n",
       "<style scoped>\n",
       "    .dataframe tbody tr th:only-of-type {\n",
       "        vertical-align: middle;\n",
       "    }\n",
       "\n",
       "    .dataframe tbody tr th {\n",
       "        vertical-align: top;\n",
       "    }\n",
       "\n",
       "    .dataframe thead th {\n",
       "        text-align: right;\n",
       "    }\n",
       "</style>\n",
       "<table border=\"1\" class=\"dataframe\">\n",
       "  <thead>\n",
       "    <tr style=\"text-align: right;\">\n",
       "      <th></th>\n",
       "      <th>impression_id</th>\n",
       "      <th>user_id</th>\n",
       "      <th>time</th>\n",
       "      <th>history</th>\n",
       "      <th>true_imp</th>\n",
       "      <th>false_imp</th>\n",
       "    </tr>\n",
       "  </thead>\n",
       "  <tbody>\n",
       "    <tr>\n",
       "      <th>0</th>\n",
       "      <td>23333</td>\n",
       "      <td>U90541</td>\n",
       "      <td>2019-11-15 00:00:01</td>\n",
       "      <td>[]</td>\n",
       "      <td>[N12627, N36931, N29490]</td>\n",
       "      <td>[N32567, N6645, N35693, N35576, N21914, N37204...</td>\n",
       "    </tr>\n",
       "    <tr>\n",
       "      <th>1</th>\n",
       "      <td>12622</td>\n",
       "      <td>U15098</td>\n",
       "      <td>2019-11-15 00:00:05</td>\n",
       "      <td>[N41241, N52026, N36360, N31550]</td>\n",
       "      <td>[N26125]</td>\n",
       "      <td>[N39149, N49633, N10552, N35773, N59814, N1897...</td>\n",
       "    </tr>\n",
       "    <tr>\n",
       "      <th>2</th>\n",
       "      <td>29761</td>\n",
       "      <td>U83813</td>\n",
       "      <td>2019-11-15 00:00:06</td>\n",
       "      <td>[N59027]</td>\n",
       "      <td>[N54803, N38215, N29490, N53346, N60592]</td>\n",
       "      <td>[N38915, N41717, N54792, N3174, N57403, N57081...</td>\n",
       "    </tr>\n",
       "    <tr>\n",
       "      <th>3</th>\n",
       "      <td>11912</td>\n",
       "      <td>U36050</td>\n",
       "      <td>2019-11-15 00:00:13</td>\n",
       "      <td>[N39556, N459, N57300, N4643, N16545, N4501, N...</td>\n",
       "      <td>[N5981, N16120]</td>\n",
       "      <td>[N45868, N62197, N54803, N23535, N57403, N5695...</td>\n",
       "    </tr>\n",
       "    <tr>\n",
       "      <th>4</th>\n",
       "      <td>28191</td>\n",
       "      <td>U73479</td>\n",
       "      <td>2019-11-15 00:00:15</td>\n",
       "      <td>[N38963, N55743, N17953, N23593, N10629, N4804...</td>\n",
       "      <td>[N38311]</td>\n",
       "      <td>[N7245, N32567, N47612, N48487, N50484, N7419,...</td>\n",
       "    </tr>\n",
       "  </tbody>\n",
       "</table>\n",
       "</div>"
      ],
      "text/plain": [
       "   impression_id user_id                time  \\\n",
       "0          23333  U90541 2019-11-15 00:00:01   \n",
       "1          12622  U15098 2019-11-15 00:00:05   \n",
       "2          29761  U83813 2019-11-15 00:00:06   \n",
       "3          11912  U36050 2019-11-15 00:00:13   \n",
       "4          28191  U73479 2019-11-15 00:00:15   \n",
       "\n",
       "                                             history  \\\n",
       "0                                                 []   \n",
       "1                   [N41241, N52026, N36360, N31550]   \n",
       "2                                           [N59027]   \n",
       "3  [N39556, N459, N57300, N4643, N16545, N4501, N...   \n",
       "4  [N38963, N55743, N17953, N23593, N10629, N4804...   \n",
       "\n",
       "                                   true_imp  \\\n",
       "0                  [N12627, N36931, N29490]   \n",
       "1                                  [N26125]   \n",
       "2  [N54803, N38215, N29490, N53346, N60592]   \n",
       "3                           [N5981, N16120]   \n",
       "4                                  [N38311]   \n",
       "\n",
       "                                           false_imp  \n",
       "0  [N32567, N6645, N35693, N35576, N21914, N37204...  \n",
       "1  [N39149, N49633, N10552, N35773, N59814, N1897...  \n",
       "2  [N38915, N41717, N54792, N3174, N57403, N57081...  \n",
       "3  [N45868, N62197, N54803, N23535, N57403, N5695...  \n",
       "4  [N7245, N32567, N47612, N48487, N50484, N7419,...  "
      ]
     },
     "execution_count": 8,
     "metadata": {},
     "output_type": "execute_result"
    }
   ],
   "source": [
    "dev_beh_df.head()"
   ]
  },
  {
   "cell_type": "code",
   "execution_count": 9,
   "id": "88d9af8b-a207-435c-a355-80b35ce8d96e",
   "metadata": {},
   "outputs": [
    {
     "data": {
      "text/html": [
       "<div>\n",
       "<style scoped>\n",
       "    .dataframe tbody tr th:only-of-type {\n",
       "        vertical-align: middle;\n",
       "    }\n",
       "\n",
       "    .dataframe tbody tr th {\n",
       "        vertical-align: top;\n",
       "    }\n",
       "\n",
       "    .dataframe thead th {\n",
       "        text-align: right;\n",
       "    }\n",
       "</style>\n",
       "<table border=\"1\" class=\"dataframe\">\n",
       "  <thead>\n",
       "    <tr style=\"text-align: right;\">\n",
       "      <th></th>\n",
       "      <th>impression_id</th>\n",
       "      <th>user_id</th>\n",
       "      <th>time</th>\n",
       "      <th>history</th>\n",
       "      <th>true_imp</th>\n",
       "      <th>false_imp</th>\n",
       "    </tr>\n",
       "  </thead>\n",
       "  <tbody>\n",
       "    <tr>\n",
       "      <th>73147</th>\n",
       "      <td>68029</td>\n",
       "      <td>U85340</td>\n",
       "      <td>2019-11-15 23:56:23</td>\n",
       "      <td>[N61864, N61864, N61864, N61864, N61864, N6254...</td>\n",
       "      <td>[N47020]</td>\n",
       "      <td>[N21681, N30598]</td>\n",
       "    </tr>\n",
       "    <tr>\n",
       "      <th>73148</th>\n",
       "      <td>32519</td>\n",
       "      <td>U74555</td>\n",
       "      <td>2019-11-15 23:56:34</td>\n",
       "      <td>[N22839, N41219, N18942, N54276, N24421, N1621...</td>\n",
       "      <td>[N62949, N42180]</td>\n",
       "      <td>[N54562, N4734, N60215, N40575, N29862, N23195...</td>\n",
       "    </tr>\n",
       "    <tr>\n",
       "      <th>73149</th>\n",
       "      <td>18025</td>\n",
       "      <td>U69320</td>\n",
       "      <td>2019-11-15 23:56:44</td>\n",
       "      <td>[N39074, N51076, N31057, N1362, N6922, N62634,...</td>\n",
       "      <td>[N56434]</td>\n",
       "      <td>[N42634, N58848, N11390, N37204, N58188, N6104...</td>\n",
       "    </tr>\n",
       "    <tr>\n",
       "      <th>73150</th>\n",
       "      <td>28994</td>\n",
       "      <td>U36875</td>\n",
       "      <td>2019-11-15 23:57:48</td>\n",
       "      <td>[N52632, N10059, N46520, N62006, N65123, N5003...</td>\n",
       "      <td>[N63919]</td>\n",
       "      <td>[N18151, N41069, N26953, N54988, N21681, N1155...</td>\n",
       "    </tr>\n",
       "    <tr>\n",
       "      <th>73151</th>\n",
       "      <td>465</td>\n",
       "      <td>U36875</td>\n",
       "      <td>2019-11-15 23:58:03</td>\n",
       "      <td>[N52632, N10059, N46520, N62006, N65123, N5003...</td>\n",
       "      <td>[N35340]</td>\n",
       "      <td>[N12409, N47825, N54562, N30598, N56080, N60085]</td>\n",
       "    </tr>\n",
       "  </tbody>\n",
       "</table>\n",
       "</div>"
      ],
      "text/plain": [
       "       impression_id user_id                time  \\\n",
       "73147          68029  U85340 2019-11-15 23:56:23   \n",
       "73148          32519  U74555 2019-11-15 23:56:34   \n",
       "73149          18025  U69320 2019-11-15 23:56:44   \n",
       "73150          28994  U36875 2019-11-15 23:57:48   \n",
       "73151            465  U36875 2019-11-15 23:58:03   \n",
       "\n",
       "                                                 history          true_imp  \\\n",
       "73147  [N61864, N61864, N61864, N61864, N61864, N6254...          [N47020]   \n",
       "73148  [N22839, N41219, N18942, N54276, N24421, N1621...  [N62949, N42180]   \n",
       "73149  [N39074, N51076, N31057, N1362, N6922, N62634,...          [N56434]   \n",
       "73150  [N52632, N10059, N46520, N62006, N65123, N5003...          [N63919]   \n",
       "73151  [N52632, N10059, N46520, N62006, N65123, N5003...          [N35340]   \n",
       "\n",
       "                                               false_imp  \n",
       "73147                                   [N21681, N30598]  \n",
       "73148  [N54562, N4734, N60215, N40575, N29862, N23195...  \n",
       "73149  [N42634, N58848, N11390, N37204, N58188, N6104...  \n",
       "73150  [N18151, N41069, N26953, N54988, N21681, N1155...  \n",
       "73151   [N12409, N47825, N54562, N30598, N56080, N60085]  "
      ]
     },
     "execution_count": 9,
     "metadata": {},
     "output_type": "execute_result"
    }
   ],
   "source": [
    "dev_beh_df.tail()"
   ]
  },
  {
   "cell_type": "markdown",
   "id": "84a98fd6-3848-4284-b1ac-432b19af80ca",
   "metadata": {},
   "source": [
    "# 4. Combine train & dev set, sort by impression time"
   ]
  },
  {
   "cell_type": "code",
   "execution_count": 10,
   "id": "aa77a598-e5da-4aab-b8b6-18541e38d83f",
   "metadata": {},
   "outputs": [],
   "source": [
    "all_beh_df = pd.concat([train_beh_df, dev_beh_df], ignore_index=True)\n",
    "all_beh_df['time'] = pd.to_datetime(all_beh_df['time'], errors='coerce')\n",
    "all_beh_df = all_beh_df.sort_values(by='time').reset_index(drop=True)"
   ]
  },
  {
   "cell_type": "code",
   "execution_count": 11,
   "id": "05481ea4-6557-4c35-beab-baa74e980d77",
   "metadata": {},
   "outputs": [
    {
     "data": {
      "text/html": [
       "<div>\n",
       "<style scoped>\n",
       "    .dataframe tbody tr th:only-of-type {\n",
       "        vertical-align: middle;\n",
       "    }\n",
       "\n",
       "    .dataframe tbody tr th {\n",
       "        vertical-align: top;\n",
       "    }\n",
       "\n",
       "    .dataframe thead th {\n",
       "        text-align: right;\n",
       "    }\n",
       "</style>\n",
       "<table border=\"1\" class=\"dataframe\">\n",
       "  <thead>\n",
       "    <tr style=\"text-align: right;\">\n",
       "      <th></th>\n",
       "      <th>impression_id</th>\n",
       "      <th>user_id</th>\n",
       "      <th>time</th>\n",
       "      <th>history</th>\n",
       "      <th>true_imp</th>\n",
       "      <th>false_imp</th>\n",
       "    </tr>\n",
       "  </thead>\n",
       "  <tbody>\n",
       "    <tr>\n",
       "      <th>0</th>\n",
       "      <td>20112</td>\n",
       "      <td>U65916</td>\n",
       "      <td>2019-11-09 00:00:19</td>\n",
       "      <td>[N51706, N40767, N12096, N9798, N38802, N54827...</td>\n",
       "      <td>[N46057, N55582, N41858]</td>\n",
       "      <td>[N54300, N57005, N52154, N57099, N31002, N3710...</td>\n",
       "    </tr>\n",
       "    <tr>\n",
       "      <th>1</th>\n",
       "      <td>13807</td>\n",
       "      <td>U49985</td>\n",
       "      <td>2019-11-09 00:01:13</td>\n",
       "      <td>[N5056, N29975, N53234, N39603, N50032, N8422,...</td>\n",
       "      <td>[N57768, N50135, N16560, N25785, N3491]</td>\n",
       "      <td>[N20602, N50059, N15134, N61880, N64536, N3710...</td>\n",
       "    </tr>\n",
       "    <tr>\n",
       "      <th>2</th>\n",
       "      <td>27660</td>\n",
       "      <td>U25550</td>\n",
       "      <td>2019-11-09 00:02:44</td>\n",
       "      <td>[N17260, N38298, N33976, N47719, N14888, N1887...</td>\n",
       "      <td>[N52433]</td>\n",
       "      <td>[N50135, N15134, N20602, N64536]</td>\n",
       "    </tr>\n",
       "    <tr>\n",
       "      <th>3</th>\n",
       "      <td>152217</td>\n",
       "      <td>U19710</td>\n",
       "      <td>2019-11-09 00:02:50</td>\n",
       "      <td>[N3530, N48284, N43019, N62546, N138, N13138, ...</td>\n",
       "      <td>[N43083]</td>\n",
       "      <td>[N57099, N30295, N21086, N5379, N57005, N31002...</td>\n",
       "    </tr>\n",
       "    <tr>\n",
       "      <th>4</th>\n",
       "      <td>42166</td>\n",
       "      <td>U38106</td>\n",
       "      <td>2019-11-09 00:03:09</td>\n",
       "      <td>[N16874, N264, N48697, N51366]</td>\n",
       "      <td>[N48925]</td>\n",
       "      <td>[N3491, N20602, N25785, N23575, N38783, N18708...</td>\n",
       "    </tr>\n",
       "  </tbody>\n",
       "</table>\n",
       "</div>"
      ],
      "text/plain": [
       "   impression_id user_id                time  \\\n",
       "0          20112  U65916 2019-11-09 00:00:19   \n",
       "1          13807  U49985 2019-11-09 00:01:13   \n",
       "2          27660  U25550 2019-11-09 00:02:44   \n",
       "3         152217  U19710 2019-11-09 00:02:50   \n",
       "4          42166  U38106 2019-11-09 00:03:09   \n",
       "\n",
       "                                             history  \\\n",
       "0  [N51706, N40767, N12096, N9798, N38802, N54827...   \n",
       "1  [N5056, N29975, N53234, N39603, N50032, N8422,...   \n",
       "2  [N17260, N38298, N33976, N47719, N14888, N1887...   \n",
       "3  [N3530, N48284, N43019, N62546, N138, N13138, ...   \n",
       "4                     [N16874, N264, N48697, N51366]   \n",
       "\n",
       "                                  true_imp  \\\n",
       "0                 [N46057, N55582, N41858]   \n",
       "1  [N57768, N50135, N16560, N25785, N3491]   \n",
       "2                                 [N52433]   \n",
       "3                                 [N43083]   \n",
       "4                                 [N48925]   \n",
       "\n",
       "                                           false_imp  \n",
       "0  [N54300, N57005, N52154, N57099, N31002, N3710...  \n",
       "1  [N20602, N50059, N15134, N61880, N64536, N3710...  \n",
       "2                   [N50135, N15134, N20602, N64536]  \n",
       "3  [N57099, N30295, N21086, N5379, N57005, N31002...  \n",
       "4  [N3491, N20602, N25785, N23575, N38783, N18708...  "
      ]
     },
     "execution_count": 11,
     "metadata": {},
     "output_type": "execute_result"
    }
   ],
   "source": [
    "all_beh_df.head()"
   ]
  },
  {
   "cell_type": "code",
   "execution_count": 12,
   "id": "7934dcf2-67bb-4dd7-b09c-80c0043c7cbd",
   "metadata": {},
   "outputs": [
    {
     "data": {
      "text/html": [
       "<div>\n",
       "<style scoped>\n",
       "    .dataframe tbody tr th:only-of-type {\n",
       "        vertical-align: middle;\n",
       "    }\n",
       "\n",
       "    .dataframe tbody tr th {\n",
       "        vertical-align: top;\n",
       "    }\n",
       "\n",
       "    .dataframe thead th {\n",
       "        text-align: right;\n",
       "    }\n",
       "</style>\n",
       "<table border=\"1\" class=\"dataframe\">\n",
       "  <thead>\n",
       "    <tr style=\"text-align: right;\">\n",
       "      <th></th>\n",
       "      <th>impression_id</th>\n",
       "      <th>user_id</th>\n",
       "      <th>time</th>\n",
       "      <th>history</th>\n",
       "      <th>true_imp</th>\n",
       "      <th>false_imp</th>\n",
       "    </tr>\n",
       "  </thead>\n",
       "  <tbody>\n",
       "    <tr>\n",
       "      <th>230112</th>\n",
       "      <td>68029</td>\n",
       "      <td>U85340</td>\n",
       "      <td>2019-11-15 23:56:23</td>\n",
       "      <td>[N61864, N61864, N61864, N61864, N61864, N6254...</td>\n",
       "      <td>[N47020]</td>\n",
       "      <td>[N21681, N30598]</td>\n",
       "    </tr>\n",
       "    <tr>\n",
       "      <th>230113</th>\n",
       "      <td>32519</td>\n",
       "      <td>U74555</td>\n",
       "      <td>2019-11-15 23:56:34</td>\n",
       "      <td>[N22839, N41219, N18942, N54276, N24421, N1621...</td>\n",
       "      <td>[N62949, N42180]</td>\n",
       "      <td>[N54562, N4734, N60215, N40575, N29862, N23195...</td>\n",
       "    </tr>\n",
       "    <tr>\n",
       "      <th>230114</th>\n",
       "      <td>18025</td>\n",
       "      <td>U69320</td>\n",
       "      <td>2019-11-15 23:56:44</td>\n",
       "      <td>[N39074, N51076, N31057, N1362, N6922, N62634,...</td>\n",
       "      <td>[N56434]</td>\n",
       "      <td>[N42634, N58848, N11390, N37204, N58188, N6104...</td>\n",
       "    </tr>\n",
       "    <tr>\n",
       "      <th>230115</th>\n",
       "      <td>28994</td>\n",
       "      <td>U36875</td>\n",
       "      <td>2019-11-15 23:57:48</td>\n",
       "      <td>[N52632, N10059, N46520, N62006, N65123, N5003...</td>\n",
       "      <td>[N63919]</td>\n",
       "      <td>[N18151, N41069, N26953, N54988, N21681, N1155...</td>\n",
       "    </tr>\n",
       "    <tr>\n",
       "      <th>230116</th>\n",
       "      <td>465</td>\n",
       "      <td>U36875</td>\n",
       "      <td>2019-11-15 23:58:03</td>\n",
       "      <td>[N52632, N10059, N46520, N62006, N65123, N5003...</td>\n",
       "      <td>[N35340]</td>\n",
       "      <td>[N12409, N47825, N54562, N30598, N56080, N60085]</td>\n",
       "    </tr>\n",
       "  </tbody>\n",
       "</table>\n",
       "</div>"
      ],
      "text/plain": [
       "        impression_id user_id                time  \\\n",
       "230112          68029  U85340 2019-11-15 23:56:23   \n",
       "230113          32519  U74555 2019-11-15 23:56:34   \n",
       "230114          18025  U69320 2019-11-15 23:56:44   \n",
       "230115          28994  U36875 2019-11-15 23:57:48   \n",
       "230116            465  U36875 2019-11-15 23:58:03   \n",
       "\n",
       "                                                  history          true_imp  \\\n",
       "230112  [N61864, N61864, N61864, N61864, N61864, N6254...          [N47020]   \n",
       "230113  [N22839, N41219, N18942, N54276, N24421, N1621...  [N62949, N42180]   \n",
       "230114  [N39074, N51076, N31057, N1362, N6922, N62634,...          [N56434]   \n",
       "230115  [N52632, N10059, N46520, N62006, N65123, N5003...          [N63919]   \n",
       "230116  [N52632, N10059, N46520, N62006, N65123, N5003...          [N35340]   \n",
       "\n",
       "                                                false_imp  \n",
       "230112                                   [N21681, N30598]  \n",
       "230113  [N54562, N4734, N60215, N40575, N29862, N23195...  \n",
       "230114  [N42634, N58848, N11390, N37204, N58188, N6104...  \n",
       "230115  [N18151, N41069, N26953, N54988, N21681, N1155...  \n",
       "230116   [N12409, N47825, N54562, N30598, N56080, N60085]  "
      ]
     },
     "execution_count": 12,
     "metadata": {},
     "output_type": "execute_result"
    }
   ],
   "source": [
    "all_beh_df.tail()"
   ]
  },
  {
   "cell_type": "markdown",
   "id": "7e7d3552-d41f-47f1-9f95-86efae56835c",
   "metadata": {},
   "source": [
    "# 4. history에 등장하는 뉴스 개수"
   ]
  },
  {
   "cell_type": "code",
   "execution_count": 32,
   "id": "c4e1231d-6d70-42b2-8c21-e0bddff51b25",
   "metadata": {},
   "outputs": [
    {
     "name": "stdout",
     "output_type": "stream",
     "text": [
      "history에 있는 뉴스 ID 개수:  44908\n"
     ]
    }
   ],
   "source": [
    "history_news = set([nid for sublist in all_beh_df['history'] for nid in sublist])\n",
    "print(\"history에 있는 뉴스 ID 개수: \", len(history_news))"
   ]
  },
  {
   "cell_type": "markdown",
   "id": "f2f6f415-8aec-4f14-bd90-c33e11505548",
   "metadata": {},
   "source": [
    "# 5. impression에 등장하는 뉴스 개수"
   ]
  },
  {
   "cell_type": "code",
   "execution_count": 33,
   "id": "9d0be024-2b85-40a4-994e-63863590f115",
   "metadata": {},
   "outputs": [
    {
     "name": "stdout",
     "output_type": "stream",
     "text": [
      "impression에 있는 뉴스 ID 개수:  22771\n"
     ]
    }
   ],
   "source": [
    "true_news = set([nid for sublist in all_beh_df['true_imp'] for nid in sublist])\n",
    "false_news = set([nid for sublist in all_beh_df['false_imp'] for nid in sublist])\n",
    "imp_news = true_news.union(false_news)\n",
    "print(\"impression에 있는 뉴스 ID 개수: \", len(imp_news))"
   ]
  },
  {
   "cell_type": "markdown",
   "id": "9be45169-82c8-49a6-b7da-0f7f8f156aae",
   "metadata": {},
   "source": [
    "# 6. 교집합 및 차집합 뉴스 개수"
   ]
  },
  {
   "cell_type": "code",
   "execution_count": 34,
   "id": "bf3ace62-58a0-4a49-912a-921cf2516f0b",
   "metadata": {},
   "outputs": [
    {
     "name": "stdout",
     "output_type": "stream",
     "text": [
      "겹치는 뉴스 ID 개수: 2441\n",
      "impressions에만 있는 뉴스 ID 개수: 20330\n",
      "history에만 있는 뉴스 ID 개수: 42467\n"
     ]
    }
   ],
   "source": [
    "# imp_news ∩ history_news: history와 impression 모두 등장하는 뉴스\n",
    "intersection = history_news.intersection(imp_news)\n",
    "\n",
    "# imp_news - history_news: history에는 없지만 impression에 등장하는 뉴스\n",
    "imp_not_in_hist = imp_news - history_news\n",
    "\n",
    "# history_news - imp_news: impression에는 없지만 history에만 있는 뉴스\n",
    "hist_not_in_imp = history_news - imp_news\n",
    "\n",
    "# 출력\n",
    "print(f\"겹치는 뉴스 ID 개수: {len(intersection)}\")\n",
    "print(f\"impressions에만 있는 뉴스 ID 개수: {len(imp_not_in_hist)}\")\n",
    "print(f\"history에만 있는 뉴스 ID 개수: {len(hist_not_in_imp)}\")"
   ]
  },
  {
   "cell_type": "markdown",
   "id": "f7ff5267-2754-409a-a745-18e0edd8976f",
   "metadata": {},
   "source": [
    "# 5. Print U36050's impressions on combined set (clicked behaviors, history)"
   ]
  },
  {
   "cell_type": "code",
   "execution_count": 16,
   "id": "3642837c-669e-43b0-8293-0f98340cba57",
   "metadata": {},
   "outputs": [],
   "source": [
    "u36050_all_df = all_beh_df[all_beh_df['user_id'] == 'U36050']"
   ]
  },
  {
   "cell_type": "code",
   "execution_count": 17,
   "id": "4faa02e2-1201-4e56-a8d6-6fc3aaf8ba3e",
   "metadata": {},
   "outputs": [
    {
     "name": "stdout",
     "output_type": "stream",
     "text": [
      "7562      [N18708, N39267, N33981]\n",
      "144150     [N11269, N6390, N38442]\n",
      "156968             [N5981, N16120]\n",
      "Name: true_imp, dtype: object\n",
      "['N39556', 'N459', 'N57300', 'N4643', 'N16545', 'N4501', 'N10059', 'N719', 'N51483', 'N56446', 'N32868', 'N19620', 'N61084', 'N10865', 'N16625', 'N19638', 'N31193', 'N25577', 'N12096', 'N48216', 'N20110', 'N18275', 'N28115', 'N25525', 'N29453', 'N16715', 'N24298', 'N18355', 'N4985', 'N6506', 'N14761', 'N1864', 'N8148', 'N46811']\n",
      "length of imp7562's history:  34\n",
      "['N39556', 'N459', 'N57300', 'N4643', 'N16545', 'N4501', 'N10059', 'N719', 'N51483', 'N56446', 'N32868', 'N19620', 'N61084', 'N10865', 'N16625', 'N19638', 'N31193', 'N25577', 'N12096', 'N48216', 'N20110', 'N18275', 'N28115', 'N25525', 'N29453', 'N16715', 'N24298', 'N18355', 'N4985', 'N6506', 'N14761', 'N1864', 'N8148', 'N46811']\n",
      "length of imp144150's history:  34\n",
      "['N39556', 'N459', 'N57300', 'N4643', 'N16545', 'N4501', 'N10059', 'N719', 'N51483', 'N56446', 'N32868', 'N19620', 'N61084', 'N10865', 'N16625', 'N19638', 'N31193', 'N25577', 'N12096', 'N48216', 'N20110', 'N18275', 'N28115', 'N25525', 'N29453', 'N16715', 'N24298', 'N18355', 'N4985', 'N6506', 'N14761', 'N1864', 'N8148', 'N46811']\n",
      "length of imp156968's history:  34\n"
     ]
    }
   ],
   "source": [
    "print(u36050_all_df['true_imp'])\n",
    "print(u36050_all_df['history'][7562])\n",
    "print(\"length of imp7562's history: \", len(u36050_all_df['history'][7562]))\n",
    "print(u36050_all_df['history'][144150])\n",
    "print(\"length of imp144150's history: \", len(u36050_all_df['history'][144150]))\n",
    "print(u36050_all_df['history'][156968])\n",
    "print(\"length of imp156968's history: \", len(u36050_all_df['history'][156968]))"
   ]
  },
  {
   "cell_type": "markdown",
   "id": "1c065438-8667-44f2-8681-61555555a59a",
   "metadata": {},
   "source": [
    "# 6. Print U36050's impressions on training set (clicked behaviors, history)"
   ]
  },
  {
   "cell_type": "code",
   "execution_count": 18,
   "id": "60e8b6cf-2eec-48fd-a39e-a405ecfd7df0",
   "metadata": {},
   "outputs": [],
   "source": [
    "u36050_train_df = train_beh_df[train_beh_df['user_id'] == 'U36050']"
   ]
  },
  {
   "cell_type": "code",
   "execution_count": 19,
   "id": "a1d6601a-c109-496c-8610-d8976dcd7bff",
   "metadata": {},
   "outputs": [
    {
     "name": "stdout",
     "output_type": "stream",
     "text": [
      "7562      [N18708, N39267, N33981]\n",
      "144150     [N11269, N6390, N38442]\n",
      "Name: true_imp, dtype: object\n",
      "['N39556', 'N459', 'N57300', 'N4643', 'N16545', 'N4501', 'N10059', 'N719', 'N51483', 'N56446', 'N32868', 'N19620', 'N61084', 'N10865', 'N16625', 'N19638', 'N31193', 'N25577', 'N12096', 'N48216', 'N20110', 'N18275', 'N28115', 'N25525', 'N29453', 'N16715', 'N24298', 'N18355', 'N4985', 'N6506', 'N14761', 'N1864', 'N8148', 'N46811']\n",
      "length of imp7562's history:  34\n",
      "['N39556', 'N459', 'N57300', 'N4643', 'N16545', 'N4501', 'N10059', 'N719', 'N51483', 'N56446', 'N32868', 'N19620', 'N61084', 'N10865', 'N16625', 'N19638', 'N31193', 'N25577', 'N12096', 'N48216', 'N20110', 'N18275', 'N28115', 'N25525', 'N29453', 'N16715', 'N24298', 'N18355', 'N4985', 'N6506', 'N14761', 'N1864', 'N8148', 'N46811']\n",
      "length of imp144150's history:  34\n"
     ]
    }
   ],
   "source": [
    "print(u36050_train_df['true_imp'])\n",
    "print(u36050_train_df['history'][7562])\n",
    "print(\"length of imp7562's history: \", len(u36050_train_df['history'][7562]))\n",
    "print(u36050_train_df['history'][144150])\n",
    "print(\"length of imp144150's history: \", len(u36050_train_df['history'][144150]))"
   ]
  },
  {
   "cell_type": "markdown",
   "id": "46067d68-9967-4175-a6bd-13ec8ae1822f",
   "metadata": {},
   "source": [
    "# 7. Print U36050's impressions on validation set (clicked behaviors, history)"
   ]
  },
  {
   "cell_type": "code",
   "execution_count": 20,
   "id": "31dea690-5481-477b-88bb-a98af61d3b80",
   "metadata": {},
   "outputs": [],
   "source": [
    "u36050_dev_df = dev_beh_df[dev_beh_df['user_id'] == 'U36050']"
   ]
  },
  {
   "cell_type": "code",
   "execution_count": 21,
   "id": "72abb3f7-8762-41d9-a673-7bbe880b4beb",
   "metadata": {},
   "outputs": [
    {
     "name": "stdout",
     "output_type": "stream",
     "text": [
      "3    [N5981, N16120]\n",
      "Name: true_imp, dtype: object\n"
     ]
    }
   ],
   "source": [
    "print(u36050_dev_df['true_imp'])"
   ]
  },
  {
   "cell_type": "code",
   "execution_count": 22,
   "id": "370a4d80-a9a4-4c66-b006-492dce51e12c",
   "metadata": {},
   "outputs": [
    {
     "name": "stdout",
     "output_type": "stream",
     "text": [
      "['N39556', 'N459', 'N57300', 'N4643', 'N16545', 'N4501', 'N10059', 'N719', 'N51483', 'N56446', 'N32868', 'N19620', 'N61084', 'N10865', 'N16625', 'N19638', 'N31193', 'N25577', 'N12096', 'N48216', 'N20110', 'N18275', 'N28115', 'N25525', 'N29453', 'N16715', 'N24298', 'N18355', 'N4985', 'N6506', 'N14761', 'N1864', 'N8148', 'N46811']\n",
      "length of imp3's history:  34\n"
     ]
    }
   ],
   "source": [
    "print(u36050_dev_df['history'][3])\n",
    "print(\"length of imp3's history: \", len(u36050_dev_df['history'][3]))"
   ]
  },
  {
   "cell_type": "markdown",
   "id": "6783c188-e757-4686-b44c-1a19ce3e4388",
   "metadata": {},
   "source": [
    "# 8. Print U65916's impressions on combined set (clicked behaviors, history)"
   ]
  },
  {
   "cell_type": "code",
   "execution_count": 23,
   "id": "92e2d213-687a-45e2-a9e7-91b6183d458e",
   "metadata": {},
   "outputs": [],
   "source": [
    "u65916_all_df = all_beh_df[all_beh_df['user_id'] == 'U65916']"
   ]
  },
  {
   "cell_type": "code",
   "execution_count": 24,
   "id": "bf09ee49-e84b-4615-b516-342865520ac8",
   "metadata": {},
   "outputs": [
    {
     "name": "stdout",
     "output_type": "stream",
     "text": [
      "0         [N46057, N55582, N41858]\n",
      "28403                     [N40495]\n",
      "94576              [N7821, N17289]\n",
      "126677                    [N41612]\n",
      "Name: true_imp, dtype: object\n",
      "['N51706', 'N40767', 'N12096', 'N9798', 'N38802', 'N54827', 'N57801', 'N5184', 'N23653', 'N44007', 'N36443', 'N43142', 'N11143', 'N53652', 'N2678']\n",
      "length of imp0's history:  15\n",
      "['N51706', 'N40767', 'N12096', 'N9798', 'N38802', 'N54827', 'N57801', 'N5184', 'N23653', 'N44007', 'N36443', 'N43142', 'N11143', 'N53652', 'N2678']\n",
      "length of imp28403's history:  15\n",
      "['N51706', 'N40767', 'N12096', 'N9798', 'N38802', 'N54827', 'N57801', 'N5184', 'N23653', 'N44007', 'N36443', 'N43142', 'N11143', 'N53652', 'N2678']\n",
      "length of imp94576's history:  15\n",
      "['N51706', 'N40767', 'N12096', 'N9798', 'N38802', 'N54827', 'N57801', 'N5184', 'N23653', 'N44007', 'N36443', 'N43142', 'N11143', 'N53652', 'N2678']\n",
      "length of imp126677's history:  15\n"
     ]
    }
   ],
   "source": [
    "print(u65916_all_df['true_imp'])\n",
    "print(u65916_all_df['history'][0])\n",
    "print(\"length of imp0's history: \", len(u65916_all_df['history'][0]))\n",
    "print(u65916_all_df['history'][28403])\n",
    "print(\"length of imp28403's history: \", len(u65916_all_df['history'][28403]))\n",
    "print(u65916_all_df['history'][94576])\n",
    "print(\"length of imp94576's history: \", len(u65916_all_df['history'][94576]))\n",
    "print(u65916_all_df['history'][126677])\n",
    "print(\"length of imp126677's history: \", len(u65916_all_df['history'][126677]))"
   ]
  },
  {
   "cell_type": "markdown",
   "id": "22bda65b-eb6f-4328-80c4-a995bf07981b",
   "metadata": {},
   "source": [
    "# 9. Print U65916's impressions on training set (clicked behaviors, history)"
   ]
  },
  {
   "cell_type": "code",
   "execution_count": 25,
   "id": "e8afba4a-0bdc-4153-98b1-c459b7cfcf8c",
   "metadata": {},
   "outputs": [],
   "source": [
    "u65916_train_df = train_beh_df[train_beh_df['user_id'] == 'U65916']"
   ]
  },
  {
   "cell_type": "code",
   "execution_count": 26,
   "id": "a02d9690-493d-4ffe-a8fa-be3027281af6",
   "metadata": {},
   "outputs": [
    {
     "name": "stdout",
     "output_type": "stream",
     "text": [
      "0         [N46057, N55582, N41858]\n",
      "28403                     [N40495]\n",
      "94576              [N7821, N17289]\n",
      "126677                    [N41612]\n",
      "Name: true_imp, dtype: object\n"
     ]
    }
   ],
   "source": [
    "print(u65916_train_df['true_imp'])"
   ]
  },
  {
   "cell_type": "code",
   "execution_count": 27,
   "id": "7e48b7a5-d203-489d-bb5d-94627cd373b9",
   "metadata": {},
   "outputs": [
    {
     "name": "stdout",
     "output_type": "stream",
     "text": [
      "['N51706', 'N40767', 'N12096', 'N9798', 'N38802', 'N54827', 'N57801', 'N5184', 'N23653', 'N44007', 'N36443', 'N43142', 'N11143', 'N53652', 'N2678']\n",
      "length of imp0's history:  15\n",
      "['N51706', 'N40767', 'N12096', 'N9798', 'N38802', 'N54827', 'N57801', 'N5184', 'N23653', 'N44007', 'N36443', 'N43142', 'N11143', 'N53652', 'N2678']\n",
      "length of imp28403's history:  15\n",
      "['N51706', 'N40767', 'N12096', 'N9798', 'N38802', 'N54827', 'N57801', 'N5184', 'N23653', 'N44007', 'N36443', 'N43142', 'N11143', 'N53652', 'N2678']\n",
      "length of imp94576's history:  15\n",
      "['N51706', 'N40767', 'N12096', 'N9798', 'N38802', 'N54827', 'N57801', 'N5184', 'N23653', 'N44007', 'N36443', 'N43142', 'N11143', 'N53652', 'N2678']\n",
      "length of imp126677's history:  15\n"
     ]
    }
   ],
   "source": [
    "print(u65916_train_df['history'][0])\n",
    "print(\"length of imp0's history: \", len(u65916_train_df['history'][0]))\n",
    "print(u65916_train_df['history'][28403])\n",
    "print(\"length of imp28403's history: \", len(u65916_train_df['history'][28403]))\n",
    "print(u65916_train_df['history'][94576])\n",
    "print(\"length of imp94576's history: \", len(u65916_train_df['history'][94576]))\n",
    "print(u65916_train_df['history'][126677])\n",
    "print(\"length of imp126677's history: \", len(u65916_train_df['history'][126677]))"
   ]
  },
  {
   "cell_type": "markdown",
   "id": "c3872350-d350-4381-81d8-ce252db07dd9",
   "metadata": {},
   "source": [
    "# 10. Print U65916's impressions on validation set (clicked behaviors, history)"
   ]
  },
  {
   "cell_type": "code",
   "execution_count": 28,
   "id": "929893eb-bb9a-4415-b81c-5ee3e24fa2ee",
   "metadata": {},
   "outputs": [],
   "source": [
    "u65916_dev_df = dev_beh_df[dev_beh_df['user_id'] == 'U65916']"
   ]
  },
  {
   "cell_type": "code",
   "execution_count": 29,
   "id": "fbc2f1c9-5910-4595-b533-df635c03acf9",
   "metadata": {},
   "outputs": [
    {
     "name": "stdout",
     "output_type": "stream",
     "text": [
      "Series([], Name: true_imp, dtype: object)\n"
     ]
    }
   ],
   "source": [
    "print(u65916_dev_df['true_imp'])"
   ]
  },
  {
   "cell_type": "code",
   "execution_count": null,
   "id": "f84eb534-0b90-4740-93e3-6b95ca1b2927",
   "metadata": {},
   "outputs": [],
   "source": []
  }
 ],
 "metadata": {
  "kernelspec": {
   "display_name": "Python 3 (ipykernel)",
   "language": "python",
   "name": "python3"
  },
  "language_info": {
   "codemirror_mode": {
    "name": "ipython",
    "version": 3
   },
   "file_extension": ".py",
   "mimetype": "text/x-python",
   "name": "python",
   "nbconvert_exporter": "python",
   "pygments_lexer": "ipython3",
   "version": "3.11.13"
  }
 },
 "nbformat": 4,
 "nbformat_minor": 5
}
